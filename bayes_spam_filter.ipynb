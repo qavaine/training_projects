{
 "cells": [
  {
   "cell_type": "markdown",
   "metadata": {},
   "source": [
    "## <center>Создание спам-фильтра для СМС-сообщений с использованием наивного байесовского классификатора: Построение предиктивного алгоритма с нуля</center>\n",
    "\n",
    "                                                           Проект выполнен: Резвухин Д.И., январь 2023 г.\n",
    "\n",
    "### Введение\n",
    "\n",
    "**Наивный байесовский классификатор** — простой вероятностный классификатор, основанный на применении теоремы Байеса со строгими (наивными) предположениями о независимости признаков классифицируемых объектов. В зависимости от точной природы вероятностной модели, наивные байесовские классификаторы могут обучаться очень эффективно, несмотря на малореалистичное предположение о независимости признаков. Достоинством классификатора также является малое количество данных, необходимых для обучения, оценки параметров и классификации. \n",
    "\n",
    "В ходе реализации данного проекта мы будем использовать мультиномиальный наивный байесовский классификатор, чтобы создать спам-фильтр, то есть обучить компьютер классифицировать сообщения на две категории: \"спам\" (spam) и \"не спам\" (ham). При выполнении задач будет использоваться датасет из 5572 смс-сообщений, которые уже были корректно классифицированы человеком. Датасет собран исследователями Tiago A. Almeida и José María Gómez Hidalgo, и находится в свободном доступе на сайте [The UCI Machine Learning Repository](https://archive.ics.uci.edu/ml/datasets/sms+spam+collection). Изначально он использовался для изучения проблемы спама в смс-сообщениях и сравнения различных ML-алгоритмов в качестве фильтров, результаты были опубликованы в работе Almeida, T.A., Gomez Hidalgo, J.M., Yamakami, A. Contributions to the Study of SMS Spam Filtering: New Collection and Results. Proceedings of the 2011 ACM Symposium on Document Engineering (DOCENG'11), Mountain View, CA, USA, 2011."
   ]
  },
  {
   "cell_type": "markdown",
   "metadata": {},
   "source": [
    "### 1. Импортирование библиотек и знакомство с датасетом\n",
    "\n",
    "Импортируем библиотеку `pandas` и посмотрим сводную информацию о датасете. "
   ]
  },
  {
   "cell_type": "code",
   "execution_count": 1,
   "metadata": {
    "ExecuteTime": {
     "end_time": "2023-08-02T06:16:22.200047Z",
     "start_time": "2023-08-02T06:16:20.826713Z"
    },
    "scrolled": true
   },
   "outputs": [
    {
     "name": "stdout",
     "output_type": "stream",
     "text": [
      "<class 'pandas.core.frame.DataFrame'>\n",
      "RangeIndex: 5572 entries, 0 to 5571\n",
      "Data columns (total 2 columns):\n",
      " #   Column  Non-Null Count  Dtype \n",
      "---  ------  --------------  ----- \n",
      " 0   Label   5572 non-null   object\n",
      " 1   SMS     5572 non-null   object\n",
      "dtypes: object(2)\n",
      "memory usage: 87.2+ KB\n"
     ]
    },
    {
     "data": {
      "text/html": [
       "<div>\n",
       "<style scoped>\n",
       "    .dataframe tbody tr th:only-of-type {\n",
       "        vertical-align: middle;\n",
       "    }\n",
       "\n",
       "    .dataframe tbody tr th {\n",
       "        vertical-align: top;\n",
       "    }\n",
       "\n",
       "    .dataframe thead th {\n",
       "        text-align: right;\n",
       "    }\n",
       "</style>\n",
       "<table border=\"1\" class=\"dataframe\">\n",
       "  <thead>\n",
       "    <tr style=\"text-align: right;\">\n",
       "      <th></th>\n",
       "      <th>Label</th>\n",
       "      <th>SMS</th>\n",
       "    </tr>\n",
       "  </thead>\n",
       "  <tbody>\n",
       "    <tr>\n",
       "      <th>0</th>\n",
       "      <td>ham</td>\n",
       "      <td>Go until jurong point, crazy.. Available only ...</td>\n",
       "    </tr>\n",
       "    <tr>\n",
       "      <th>1</th>\n",
       "      <td>ham</td>\n",
       "      <td>Ok lar... Joking wif u oni...</td>\n",
       "    </tr>\n",
       "    <tr>\n",
       "      <th>2</th>\n",
       "      <td>spam</td>\n",
       "      <td>Free entry in 2 a wkly comp to win FA Cup fina...</td>\n",
       "    </tr>\n",
       "    <tr>\n",
       "      <th>3</th>\n",
       "      <td>ham</td>\n",
       "      <td>U dun say so early hor... U c already then say...</td>\n",
       "    </tr>\n",
       "    <tr>\n",
       "      <th>4</th>\n",
       "      <td>ham</td>\n",
       "      <td>Nah I don't think he goes to usf, he lives aro...</td>\n",
       "    </tr>\n",
       "  </tbody>\n",
       "</table>\n",
       "</div>"
      ],
      "text/plain": [
       "  Label                                                SMS\n",
       "0   ham  Go until jurong point, crazy.. Available only ...\n",
       "1   ham                      Ok lar... Joking wif u oni...\n",
       "2  spam  Free entry in 2 a wkly comp to win FA Cup fina...\n",
       "3   ham  U dun say so early hor... U c already then say...\n",
       "4   ham  Nah I don't think he goes to usf, he lives aro..."
      ]
     },
     "execution_count": 1,
     "metadata": {},
     "output_type": "execute_result"
    }
   ],
   "source": [
    "\"\"\"В датасете нет заголовка, \n",
    "   поэтому отметим это в принимаемых функцией `pd.read_csv` аргументах \n",
    "   и дадим столбцам названия.\"\"\"\n",
    "\n",
    "import pandas as pd\n",
    "\n",
    "sms_data = pd.read_csv('SMSSpamCollection', sep='\\t', header=None, names=['Label', 'SMS'])\n",
    "sms_data.info()\n",
    "sms_data.head()"
   ]
  },
  {
   "cell_type": "markdown",
   "metadata": {},
   "source": [
    "Датасет имеет очень простую структуру. В столбце `Label` всего два значения: 'spam' и 'ham', что соответсвует спаму и обычным сообщениям от абонентов (ham – антоним к слову spam). В ячейках столбца `SMS` находится текст смс-сообщений.\n",
    "\n",
    "Посчитаем процентное соотношение спама к общему количеству смс-сообщений:"
   ]
  },
  {
   "cell_type": "code",
   "execution_count": 2,
   "metadata": {
    "ExecuteTime": {
     "end_time": "2023-08-02T06:16:22.227030Z",
     "start_time": "2023-08-02T06:16:22.204968Z"
    }
   },
   "outputs": [
    {
     "data": {
      "text/plain": [
       "ham     86.593683\n",
       "spam    13.406317\n",
       "Name: Label, dtype: float64"
      ]
     },
     "execution_count": 2,
     "metadata": {},
     "output_type": "execute_result"
    }
   ],
   "source": [
    "sms_data['Label'].value_counts(normalize=True) * 100"
   ]
  },
  {
   "cell_type": "markdown",
   "metadata": {},
   "source": [
    "Таким образом, около 13% сообщений в датасете являются спамом. Оставшиеся 87% классифицированы человеком как обычные пользовательские сообщения (не спам)."
   ]
  },
  {
   "cell_type": "markdown",
   "metadata": {},
   "source": [
    "### 2. Создание обучающей и тестовой выборок\n",
    "\n",
    "Перед созданием непосредственно спам-фильтра, имеет смысл сначала подумать о способе проверки его эффективности. При разработке ПО (в том числе и спам-фильтра) создание релевантного теста должно предшествовать созданию самого программного обеспечения. Это необходимо для того, чтобы исключить возможность создания предвзятой проверки, которую алгоритм заведомо пройдет.\n",
    "\n",
    "Мы разделим датасет на две части. 80% данных пойдут в обучающую выборку, а оставшиеся 20% — в тестовую. Такое разделение обусловлено тем, что для обучения алгоритма необходимо как можно больше доступных данных, но в то же время необходимо оставить часть данных для тестирования. Суть тестовой выборки заключается в том, что смс-сообщения в ней уже корректно классифицированы человеком как \"спам\" или \"не спам\". Применив к ним получившийся спам-фильтр и сравнив результаты, можно будет оценить его эффективность.\n",
    "\n",
    "Разделим датасет на две части согласно пропорции 80/20. Суммарно в датасете представлено 5572 сообщения, поэтому в обучающую выборку пойдут 4457 смсок, а в тестовую — 1115. Проверим, что пропорция спама в ~13.4% сохранилась в обеих частях."
   ]
  },
  {
   "cell_type": "code",
   "execution_count": 3,
   "metadata": {
    "ExecuteTime": {
     "end_time": "2023-08-02T06:16:23.434976Z",
     "start_time": "2023-08-02T06:16:22.233015Z"
    },
    "scrolled": true
   },
   "outputs": [
    {
     "name": "stdout",
     "output_type": "stream",
     "text": [
      "Proportion of spam in the training set is 13.42%\n",
      "Proportion of spam in the test set is 13.36%\n"
     ]
    }
   ],
   "source": [
    "from sklearn.model_selection import train_test_split\n",
    "train, test = train_test_split(sms_data, test_size=0.2, random_state=363563, stratify=sms_data['Label'])\n",
    "train.reset_index(drop=True, inplace=True)\n",
    "test.reset_index(drop=True, inplace=True)\n",
    "\n",
    "spam_pct_train = (train['Label'] == 'spam').mean() * 100\n",
    "spam_pct_test = (test['Label'] == 'spam').mean() * 100\n",
    "print(f'Proportion of spam in the training set is {spam_pct_train:.2f}%')\n",
    "print(f'Proportion of spam in the test set is {spam_pct_test:.2f}%')"
   ]
  },
  {
   "cell_type": "markdown",
   "metadata": {},
   "source": [
    "### 3. Немного дата-клининга, пунктуация и регистр\n",
    "\n",
    "Перед тем, как начать непосредственно расчет вероятностей, нам нужно привести данные в обучающей выборке к удобному формату, чтобы впоследствии можно было легко извлечь всю необходимую информацию. А именно, имеет смысл поменять структуру датасета следующим образом:\n",
    "\n",
    "* оставить столбец `Label`\n",
    "* столбец `SMS` разделить на ряд столбцов, в каждом из которых будет указана частота встречаемости слов в каждом сообщении\n",
    "* каждый ряд при этом продолжит соответствовать одному сообщению. \n",
    "\n",
    "Например, предположим, что сообщение \"SECRET PRIZE! CLAIM SECRET PRIZE NOW!!\" разделится на столбцы с данными `spam, 2, 2, 1, 1, 0, ..., 0`. Это будет означать, что слово \"secret\" в этом сообщении встречено 2 раза, слово \"prize\" также встречается два раза, слова \"claim\" и \"now\" встречаются по одному разу, а остальных слов из списка уникальных слов в этом сообщении нет. Таким образом, мы должны превратить исходный датафрейм такого типа:\n",
    "\n",
    "|   | Label | SMS                                    |\n",
    "|---|-------|----------------------------------------|\n",
    "| 0 | spam  | SECRET PRIZE! CLAIM SECRET PRIZE NOW!! |\n",
    "| 1 | ham   | Coming to my secret party?             |\n",
    "| 2 | spam  | Winner! Claim secret prize now!        |\n",
    "\n",
    "В новый датафрейм, который будет содержать таблицу встречаемости слов:\n",
    "\n",
    "|   | Label | secret | prize | claim | now | coming | to | my | party | winner |\n",
    "|---|-------|--------|-------|-------|-----|--------|----|----|-------|--------|\n",
    "| 0 | spam  | 2      | 2     | 1     | 1   | 0      | 0  | 0  | 0     | 0      |\n",
    "| 1 | ham   | 1      | 0     | 0     | 0   | 1      | 1  | 1  | 1     | 0      |\n",
    "| 2 | spam  | 1      | 1     | 1     | 1   | 0      | 0  | 0  | 0     | 1      |\n",
    "\n",
    "Помимо этого, нужно учесть, что:\n",
    "* все слова в списке уникальных услов будут представлены в нижнем регистре (например, \"SECRET\" и \"secret\" соответствуют одному слову)\n",
    "* важны только слова, пунктуация значения не имеет\n",
    "\n",
    "На данном шаге начнем модификацию обучающей выборки с удаления знаков препинания и переводу всех букв к нижнему регистру. Используем простой RegEx шаблон, чтобы найти все символы, которые не являются буквами, и заменим их на пробел."
   ]
  },
  {
   "cell_type": "code",
   "execution_count": 4,
   "metadata": {
    "ExecuteTime": {
     "end_time": "2023-08-02T06:16:23.535861Z",
     "start_time": "2023-08-02T06:16:23.439102Z"
    }
   },
   "outputs": [
    {
     "data": {
      "text/plain": [
       "0                          tell me pa  how is pain de \n",
       "1    camera   you are awarded a sipix digital camer...\n",
       "2    oh ok i didnt know what you meant  yep i am ba...\n",
       "3    free ringtone  reply real or poly eg real1 1  ...\n",
       "4    hi  wk been ok   on hols now  yes on for a bit...\n",
       "Name: SMS, dtype: object"
      ]
     },
     "execution_count": 4,
     "metadata": {},
     "output_type": "execute_result"
    }
   ],
   "source": [
    "train['SMS'] = train['SMS'].str.replace('\\W', ' ', regex=True).str.lower()\n",
    "train['SMS'].head()"
   ]
  },
  {
   "cell_type": "markdown",
   "metadata": {},
   "source": [
    "### 4. Создание списка уникальных слов\n",
    "\n",
    "Для того, чтобы провести обучение классификатора, нужно создать список уникальных слов, встречающихся в сообщениях (vocabulary). Каждое слово в этом списке должно иметь строковый тип данных (`str`). Для этого разделим каждое сообщение в обучающей выборке на список слов и потом каждое слово занесем в инициализированный заранее пустой список:"
   ]
  },
  {
   "cell_type": "code",
   "execution_count": 5,
   "metadata": {
    "ExecuteTime": {
     "end_time": "2023-08-02T06:16:23.618774Z",
     "start_time": "2023-08-02T06:16:23.542341Z"
    }
   },
   "outputs": [
    {
     "name": "stdout",
     "output_type": "stream",
     "text": [
      "Number of unique words in the vocabulary: 7878\n"
     ]
    }
   ],
   "source": [
    "train['SMS'] = train['SMS'].str.split()\n",
    "\n",
    "vocabulary = []\n",
    "\n",
    "for sms_split in train['SMS']:\n",
    "    for word in sms_split:\n",
    "        vocabulary.append(word)\n",
    "        \n",
    "# избавимся от повторов, преобразовав список в множество\n",
    "vocabulary = list(set(vocabulary))\n",
    "print(f'Number of unique words in the vocabulary: {len(vocabulary)}')"
   ]
  },
  {
   "cell_type": "markdown",
   "metadata": {},
   "source": [
    "### 5. Завершение модификации обучающей выборки\n",
    "\n",
    "Теперь, используя список уникальных слов в сообщениях, мы можем видоизменить датафрейм обучающей выборки таким образом, чтобы он соответствовал плану из пункта 3. "
   ]
  },
  {
   "cell_type": "code",
   "execution_count": 6,
   "metadata": {
    "ExecuteTime": {
     "end_time": "2023-08-02T06:16:47.013659Z",
     "start_time": "2023-08-02T06:16:23.623283Z"
    },
    "scrolled": true
   },
   "outputs": [
    {
     "data": {
      "text/html": [
       "<div>\n",
       "<style scoped>\n",
       "    .dataframe tbody tr th:only-of-type {\n",
       "        vertical-align: middle;\n",
       "    }\n",
       "\n",
       "    .dataframe tbody tr th {\n",
       "        vertical-align: top;\n",
       "    }\n",
       "\n",
       "    .dataframe thead th {\n",
       "        text-align: right;\n",
       "    }\n",
       "</style>\n",
       "<table border=\"1\" class=\"dataframe\">\n",
       "  <thead>\n",
       "    <tr style=\"text-align: right;\">\n",
       "      <th></th>\n",
       "      <th>Label</th>\n",
       "      <th>SMS</th>\n",
       "      <th>settle</th>\n",
       "      <th>kvb</th>\n",
       "      <th>b</th>\n",
       "      <th>disastrous</th>\n",
       "      <th>banter</th>\n",
       "      <th>09058094507</th>\n",
       "      <th>incorrect</th>\n",
       "      <th>09056242159</th>\n",
       "      <th>...</th>\n",
       "      <th>asda</th>\n",
       "      <th>depressed</th>\n",
       "      <th>bruv</th>\n",
       "      <th>announced</th>\n",
       "      <th>pc</th>\n",
       "      <th>complaint</th>\n",
       "      <th>seen</th>\n",
       "      <th>645</th>\n",
       "      <th>lightly</th>\n",
       "      <th>cos</th>\n",
       "    </tr>\n",
       "  </thead>\n",
       "  <tbody>\n",
       "    <tr>\n",
       "      <th>4452</th>\n",
       "      <td>spam</td>\n",
       "      <td>[this, is, the, 2nd, time, we, have, tried, 2,...</td>\n",
       "      <td>0</td>\n",
       "      <td>0</td>\n",
       "      <td>0</td>\n",
       "      <td>0</td>\n",
       "      <td>0</td>\n",
       "      <td>0</td>\n",
       "      <td>0</td>\n",
       "      <td>0</td>\n",
       "      <td>...</td>\n",
       "      <td>0</td>\n",
       "      <td>0</td>\n",
       "      <td>0</td>\n",
       "      <td>0</td>\n",
       "      <td>0</td>\n",
       "      <td>0</td>\n",
       "      <td>0</td>\n",
       "      <td>0</td>\n",
       "      <td>0</td>\n",
       "      <td>0</td>\n",
       "    </tr>\n",
       "    <tr>\n",
       "      <th>4453</th>\n",
       "      <td>ham</td>\n",
       "      <td>[u, gd, lor, go, shopping, i, got, stuff, to, ...</td>\n",
       "      <td>0</td>\n",
       "      <td>0</td>\n",
       "      <td>0</td>\n",
       "      <td>0</td>\n",
       "      <td>0</td>\n",
       "      <td>0</td>\n",
       "      <td>0</td>\n",
       "      <td>0</td>\n",
       "      <td>...</td>\n",
       "      <td>0</td>\n",
       "      <td>0</td>\n",
       "      <td>0</td>\n",
       "      <td>0</td>\n",
       "      <td>0</td>\n",
       "      <td>0</td>\n",
       "      <td>0</td>\n",
       "      <td>0</td>\n",
       "      <td>0</td>\n",
       "      <td>0</td>\n",
       "    </tr>\n",
       "    <tr>\n",
       "      <th>4454</th>\n",
       "      <td>spam</td>\n",
       "      <td>[gsoh, good, with, spam, the, ladies, u, could...</td>\n",
       "      <td>0</td>\n",
       "      <td>0</td>\n",
       "      <td>1</td>\n",
       "      <td>0</td>\n",
       "      <td>0</td>\n",
       "      <td>0</td>\n",
       "      <td>0</td>\n",
       "      <td>0</td>\n",
       "      <td>...</td>\n",
       "      <td>0</td>\n",
       "      <td>0</td>\n",
       "      <td>0</td>\n",
       "      <td>0</td>\n",
       "      <td>0</td>\n",
       "      <td>0</td>\n",
       "      <td>0</td>\n",
       "      <td>0</td>\n",
       "      <td>0</td>\n",
       "      <td>0</td>\n",
       "    </tr>\n",
       "    <tr>\n",
       "      <th>4455</th>\n",
       "      <td>ham</td>\n",
       "      <td>[i, dont, want, to, hear, anything]</td>\n",
       "      <td>0</td>\n",
       "      <td>0</td>\n",
       "      <td>0</td>\n",
       "      <td>0</td>\n",
       "      <td>0</td>\n",
       "      <td>0</td>\n",
       "      <td>0</td>\n",
       "      <td>0</td>\n",
       "      <td>...</td>\n",
       "      <td>0</td>\n",
       "      <td>0</td>\n",
       "      <td>0</td>\n",
       "      <td>0</td>\n",
       "      <td>0</td>\n",
       "      <td>0</td>\n",
       "      <td>0</td>\n",
       "      <td>0</td>\n",
       "      <td>0</td>\n",
       "      <td>0</td>\n",
       "    </tr>\n",
       "    <tr>\n",
       "      <th>4456</th>\n",
       "      <td>ham</td>\n",
       "      <td>[s, this, will, increase, the, chance, of, win...</td>\n",
       "      <td>0</td>\n",
       "      <td>0</td>\n",
       "      <td>0</td>\n",
       "      <td>0</td>\n",
       "      <td>0</td>\n",
       "      <td>0</td>\n",
       "      <td>0</td>\n",
       "      <td>0</td>\n",
       "      <td>...</td>\n",
       "      <td>0</td>\n",
       "      <td>0</td>\n",
       "      <td>0</td>\n",
       "      <td>0</td>\n",
       "      <td>0</td>\n",
       "      <td>0</td>\n",
       "      <td>0</td>\n",
       "      <td>0</td>\n",
       "      <td>0</td>\n",
       "      <td>0</td>\n",
       "    </tr>\n",
       "  </tbody>\n",
       "</table>\n",
       "<p>5 rows × 7880 columns</p>\n",
       "</div>"
      ],
      "text/plain": [
       "     Label                                                SMS  settle  kvb  b  \\\n",
       "4452  spam  [this, is, the, 2nd, time, we, have, tried, 2,...       0    0  0   \n",
       "4453   ham  [u, gd, lor, go, shopping, i, got, stuff, to, ...       0    0  0   \n",
       "4454  spam  [gsoh, good, with, spam, the, ladies, u, could...       0    0  1   \n",
       "4455   ham                [i, dont, want, to, hear, anything]       0    0  0   \n",
       "4456   ham  [s, this, will, increase, the, chance, of, win...       0    0  0   \n",
       "\n",
       "      disastrous  banter  09058094507  incorrect  09056242159  ...  asda  \\\n",
       "4452           0       0            0          0            0  ...     0   \n",
       "4453           0       0            0          0            0  ...     0   \n",
       "4454           0       0            0          0            0  ...     0   \n",
       "4455           0       0            0          0            0  ...     0   \n",
       "4456           0       0            0          0            0  ...     0   \n",
       "\n",
       "      depressed  bruv  announced  pc  complaint  seen  645  lightly  cos  \n",
       "4452          0     0          0   0          0     0    0        0    0  \n",
       "4453          0     0          0   0          0     0    0        0    0  \n",
       "4454          0     0          0   0          0     0    0        0    0  \n",
       "4455          0     0          0   0          0     0    0        0    0  \n",
       "4456          0     0          0   0          0     0    0        0    0  \n",
       "\n",
       "[5 rows x 7880 columns]"
      ]
     },
     "execution_count": 6,
     "metadata": {},
     "output_type": "execute_result"
    }
   ],
   "source": [
    "\"\"\"Для этого создадим новый датафрейм из словаря, \n",
    "   в котором каждый ключ будет уникальным словом из списка слов, \n",
    "   а значение будет представлять собой список с длиной, \n",
    "   равной количеству смс-сообщений в обучающей выборке. \n",
    "   \n",
    "   Каждый элемент такого списка будет изначально равен нулю. \n",
    "   Значение будет меняться (последовательно повышаться на 1) для тех слов, \n",
    "   которые встречаются в конкретном сообщении.\n",
    "\n",
    "   Мы также соединим полученный датафрейм с изначальной обучающей выборкой, \n",
    "   чтобы добавить в него столбцы `Label` и `SMS`.\"\"\"\n",
    "\n",
    "word_counts_per_sms = {word: [0] * len(train['SMS']) for word in vocabulary}\n",
    "\n",
    "for index, sms in enumerate(train['SMS']):\n",
    "    for word in sms:\n",
    "        word_counts_per_sms[word][index] += 1\n",
    "        \n",
    "word_counts_per_sms = pd.DataFrame(word_counts_per_sms)\n",
    "train_clean = pd.concat([train, word_counts_per_sms], axis=1)\n",
    "train_clean.tail()"
   ]
  },
  {
   "cell_type": "markdown",
   "metadata": {},
   "source": [
    "### 6. Немного теории\n",
    "\n",
    "После того, как мы подготовили данные для задач классификации, можно начать создание спам-фильтра. Наивный байесовский алгоритм классифицирует сообщение на основе сравнения двух апостериорных вероятностей, которые получаются при вычислении следующих выражений:\n",
    "\\begin{equation}\n",
    "P(Spam|\\psi_1, \\psi_2,...,\\psi_n) \\propto P(Spam) \\cdot \\prod_{i=1}^n P(\\psi_{i}|Spam)\n",
    "\\end{equation}\n",
    "\n",
    "\\begin{equation}\n",
    "P(Ham|\\psi_1, \\psi_2,...,\\psi_n) \\propto P(Ham) \\cdot \\prod_{i=1}^n P(\\psi_{i}|Ham)\n",
    "\\end{equation}\n",
    "\n",
    "где знак $\\propto$ означает пропорциональность, $\\psi$ обозначает частоты встречаемости отдельных слов в сообщениях, а  $\\prod_{i=1}^n$ означает произведение (нам нужно перемножить значения $P(\\psi_{i}|Spam)$ для отдельных слов). \n",
    "\n",
    "Если значение первого выражения больше второго, то сообщение классифицируется как спам. Фактически, данные выражения представляют собой обычную формулу Байеса, но без знаменателя, который для этих выражений одинаков. Такое упрощение возможно по причине того, что нас интересует сравнение вероятностей (больше-меньше), а не сами значения вероятностей. Однако из-за того, что знаменатель сокращен, в выражениях используется не знак равенства, а знак пропорциональности $\\propto$.\n",
    "\n",
    "Чтобы рассчитать $P(\\psi_{i}|Spam)$ и $P(\\psi_{i}|Spam)$ из формул выше, нам также потребуются следующие уравнения:\n",
    "\n",
    "\\begin{equation}\n",
    "P(\\psi_i|Spam) = \\frac{N_{\\psi_i|Spam} + \\alpha}{N_{Spam}+ \\alpha \\cdot N_{vocabulary}}\n",
    "\\end{equation}\n",
    "\n",
    "\\begin{equation}\n",
    "P(\\psi_i|Ham) = \\frac{N_{\\psi_i|Ham} + \\alpha}{N_{Ham}+ \\alpha \\cdot N_{vocabulary}}\n",
    "\\end{equation}\n",
    "\n",
    "В этих формулах:\n",
    "* $N_{\\psi_i|Spam}$ — частота встречамости $\\psi_i$ слова в спаме\n",
    "* $N_{Spam}$ — общее количество слов в спаме\n",
    "* $N_{vocabulary}$ — общее количество уникальных слов\n",
    "* $\\alpha = 1$ — аддитивное сглаживание (сглаживание Лапласа). \n",
    "\n",
    "Данные уравнения позволяют вычислить частоты встречаемости отдельных слов в категориях \"Спам\" и \"Не спам\" (для этого мы ранее производили манипуляции с датафреймом). Поскольку возможны ситуации, когда все выражение (1) или (2) обнуляется из-за того, что одно из слов не нашлось в категории Spam или Ham (т.е. множитель будет равен нулю), то используется аддитивное сглаживание – параметр $\\alpha$, который делает значение множителя очень низким, однако не равным нулю."
   ]
  },
  {
   "cell_type": "markdown",
   "metadata": {},
   "source": [
    "### 7. Вычисление констант\n",
    "\n",
    "Отметим, что некоторые составляющие части уравнений имеет одно и то же значение вне завимости от классифицируемого сообщения. Рассчитаем такие константы как априорные вероятности $P(Spam)$ и $P(Ham)$, а также $N_{Spam}$, $N_{Ham}$ и $N_{Vocabulary}$.\n",
    "\n",
    "$P(Spam)$ и $P(Ham)$ представляют собой пропорции \"спама\" и \"не спама\", соответственно, относительно числа сообщений в целом в обучающей выборке. По сути, мы уже считали эти вероятности, когда разделяли датасет на выборки."
   ]
  },
  {
   "cell_type": "code",
   "execution_count": 7,
   "metadata": {
    "ExecuteTime": {
     "end_time": "2023-08-02T06:16:47.544886Z",
     "start_time": "2023-08-02T06:16:47.033827Z"
    }
   },
   "outputs": [
    {
     "name": "stdout",
     "output_type": "stream",
     "text": [
      "P(Spam) is 0.134\n",
      "P(Ham) is 0.866\n",
      "Number of words in Spam, N(Spam) is 15243\n",
      "Number of words in Ham, N(Ham) is 57527\n",
      "Total number of unique words is 7878\n"
     ]
    }
   ],
   "source": [
    "train_spam = train_clean[train_clean['Label'] == 'spam']\n",
    "train_ham = train_clean[train_clean['Label'] == 'ham']\n",
    "\n",
    "# вычисление P(Spam) и P(Ham), априорные вероятности\n",
    "p_spam = len(train_spam) / len(train)\n",
    "p_ham = len(train_ham) / len(train)\n",
    "print(f'P(Spam) is {p_spam:.3f}')\n",
    "print(f'P(Ham) is {p_ham:.3f}')\n",
    "\n",
    "# вычисление N(Spam) и N(Ham), общее количество слов той и другой категории\n",
    "n_spam = train_spam['SMS'].apply(len).sum()\n",
    "n_ham = train_ham['SMS'].apply(len).sum()\n",
    "print(f'Number of words in Spam, N(Spam) is {n_spam}')\n",
    "print(f'Number of words in Ham, N(Ham) is {n_ham}')\n",
    "\n",
    "# количество уникальных слов в списке уникальных слов\n",
    "n_voc = len(vocabulary)\n",
    "print(f'Total number of unique words is {n_voc}')\n",
    "\n",
    "# сглаживание Лапласа\n",
    "alpha = 1"
   ]
  },
  {
   "cell_type": "markdown",
   "metadata": {},
   "source": [
    "### 8. Вычисление остальных параметров \n",
    "\n",
    "В формулах, приведенных выше, параметры $P(\\psi_{i}|Spam)$ и $P(\\psi_{i}|Spam)$ будут разными в зависимости от слова. При этом, для каждого слова значения этих параметров будут постоянными вне зависимости от сообщения. Например, представим, что нами получено два сообщения, содержащие слово \"secret\":\n",
    "\n",
    "* \"secret code\"\n",
    "* \"secret party 2night\"\n",
    "\n",
    "Для обоих сообщений нужно рассчитать значение параметра $P(secret|Spam)$. Это можно сделать по следующей формуле:\n",
    "\n",
    "\\begin{equation}\n",
    "P(secret|Spam) = \\frac{N_{secret|Spam} + \\alpha}{N_{Spam}+ \\alpha \\cdot N_{vocabulary}}\n",
    "\\end{equation}\n",
    "\n",
    "Для обоих сообщений значение этого параметра будет одинаковым, равно как и для любого другого сообщения, содержащего слово \"secret\". Ключевая особенность здесь заключается в том, что значение $P(secret|Spam)$ зависит только от обучающей выборки, и поэтому в рамках выборки будет постоянным. Это означает, что мы можем использовать обучающую выборку, чтобы рассчитать вероятности  $P(word|Spam)$ и $P(word|Ham)$ для каждого уникального слова. Таким образом, предварительный расчет большого количества значений делает байесовский классификатор очень быстрым. Когда встает необходимость классифицировать новое сообщение, большая часть вычислений уже сделана, что позволяет почти мгновенно провести работу по классификации.\n",
    "\n",
    "Посчитаем значения $P(word|Spam)$ и $P(word|Ham)$ для каждого уникального слова. "
   ]
  },
  {
   "cell_type": "code",
   "execution_count": 8,
   "metadata": {
    "ExecuteTime": {
     "end_time": "2023-08-02T06:16:51.761070Z",
     "start_time": "2023-08-02T06:16:47.555661Z"
    }
   },
   "outputs": [],
   "source": [
    "\"\"\"Для этого создадим два словаря, в которых ключи будут уникальными словами, \n",
    "   а значения изначально будут представлены в виде нулей. \n",
    "   После этого для каждого уникального слова рассчитаем значения P(word|Spam) и P(word|Ham) \n",
    "   и заменим нули в словарях на полученные значения.\"\"\"\n",
    "\n",
    "train_spam_freq = {word: 0 for word in vocabulary}\n",
    "train_ham_freq = {word: 0 for word in vocabulary}\n",
    "\n",
    "for word in vocabulary:\n",
    "    p_word_spam = (train_spam[word].sum() + alpha) / (n_spam + n_voc)\n",
    "    p_word_ham = (train_ham[word].sum() + alpha) / (n_ham + n_voc)\n",
    "    train_spam_freq[word] = p_word_spam\n",
    "    train_ham_freq[word] = p_word_ham"
   ]
  },
  {
   "cell_type": "markdown",
   "metadata": {},
   "source": [
    "### 9. Классификация нового сообщения\n",
    "\n",
    "Проведя большую подготовительную работу, мы можем приступить к созданию ядра спам-фильтра. Спам-фильтр можно представить в виде функции, которая:\n",
    "\n",
    "* принимает в качестве аргумента сообщение, состоящее из некоторого количества слов ($\\psi_1, \\psi_2,...,\\psi_n$)\n",
    "* рассчитывает значения $P(Spam|\\psi_1, \\psi_2,...,\\psi_n)$ и $P(Ham|\\psi_1, \\psi_2,...,\\psi_n)$ по формулам\n",
    "* сравнивает эти значения\n",
    "\n",
    "Если $P(Spam|\\psi_1, \\psi_2,...,\\psi_n)$ > $P(Ham|\\psi_1, \\psi_2,...,\\psi_n)$, то сообщение классифицируется как спам, и наоборот. В случае абсолютно равных  вероятностей, алгоритм может опционально указать, что требуется помощь человека. Мы не будем использовать округление, поэтому такой вариант практически невозможен. \n",
    "\n",
    "Напишем, функцию, представляющую собой спам-фильтр:"
   ]
  },
  {
   "cell_type": "code",
   "execution_count": 9,
   "metadata": {
    "ExecuteTime": {
     "end_time": "2023-08-02T06:16:51.793089Z",
     "start_time": "2023-08-02T06:16:51.771110Z"
    }
   },
   "outputs": [],
   "source": [
    "import re\n",
    "\n",
    "def classify(message):\n",
    "    \"\"\"Classifies a message into Spam or Ham based on the Naive Bayes approach\"\"\"    \n",
    "    message = re.sub('\\W', ' ', message).lower().split()\n",
    "    \n",
    "    # инициализируем начальные (априорные) значения вероятностей для слов\n",
    "    p_spam_given_message = p_spam \n",
    "    p_ham_given_message = p_ham \n",
    "    \n",
    "    for word in message:\n",
    "        if word in train_spam_freq:\n",
    "            p_spam_given_message *= train_spam_freq[word]\n",
    "        \n",
    "        if word in train_ham_freq:\n",
    "            p_ham_given_message *= train_ham_freq[word]\n",
    "\n",
    "    print('P(Spam|message):', p_spam_given_message)\n",
    "    print('P(Ham|message):', p_ham_given_message)\n",
    "\n",
    "    if p_ham_given_message >= p_spam_given_message:\n",
    "        print('Label: Ham')\n",
    "    else:\n",
    "        print('Label: Spam')\n"
   ]
  },
  {
   "cell_type": "markdown",
   "metadata": {},
   "source": [
    "Попробуем применить функцию для классификации новых сообщений. Создадим одно из них так, чтобы оно напоминало спам, а второе, наоборот, походило на обычное сообщение от одного юзера к другому:"
   ]
  },
  {
   "cell_type": "code",
   "execution_count": 10,
   "metadata": {
    "ExecuteTime": {
     "end_time": "2023-08-02T06:16:51.831493Z",
     "start_time": "2023-08-02T06:16:51.801098Z"
    },
    "scrolled": true
   },
   "outputs": [
    {
     "name": "stdout",
     "output_type": "stream",
     "text": [
      "P(Spam|message): 1.6125728602444621e-25\n",
      "P(Ham|message): 2.849010892846109e-27\n",
      "Label: Spam\n",
      "\n",
      "P(Spam|message): 2.353362543044702e-21\n",
      "P(Ham|message): 7.987965872837592e-17\n",
      "Label: Ham\n"
     ]
    }
   ],
   "source": [
    "classify('WINNER!! This is the secret code to unlock the money: C3421.')\n",
    "print()\n",
    "classify(\"Sounds good, Dmitriy, then see u there\")"
   ]
  },
  {
   "cell_type": "markdown",
   "metadata": {},
   "source": [
    "Как можно убедиться, функция корректно классифицировала оба сообщения."
   ]
  },
  {
   "cell_type": "markdown",
   "metadata": {},
   "source": [
    "### 10. Оценка точности классификации"
   ]
  },
  {
   "cell_type": "markdown",
   "metadata": {},
   "source": [
    "Теперь нам необходимо провести более подробный тестовый анализ, чтобы посмотреть, как классификатор ведет себя на тестовой выборке, т.е. насколько корректно он классифицирует самые разные сообщения. В процессе обучения алгоритм не встречался с сообщениями из тестовой выборки, поэтому для него они будут новыми.\n",
    "\n",
    "Немного видоизменим функцию `classify`, чтобы она возвращала результат классификации (без print). "
   ]
  },
  {
   "cell_type": "code",
   "execution_count": 11,
   "metadata": {
    "ExecuteTime": {
     "end_time": "2023-08-02T06:16:51.862571Z",
     "start_time": "2023-08-02T06:16:51.840257Z"
    }
   },
   "outputs": [],
   "source": [
    "def classify_test(message):\n",
    "    \"\"\"Classifies a message into Spam or Ham based on the Naive Bayes approach\"\"\"\n",
    "    message = re.sub('\\W', ' ', message).lower().split()\n",
    "    \n",
    "    # инициализируем начальные (априорные) значения вероятностей для слов\n",
    "    p_spam_given_message = p_spam \n",
    "    p_ham_given_message = p_ham \n",
    "    \n",
    "    for word in message:\n",
    "        if word in train_spam_freq:\n",
    "            p_spam_given_message *= train_spam_freq[word]\n",
    "        \n",
    "        if word in train_ham_freq:\n",
    "            p_ham_given_message *= train_ham_freq[word]\n",
    "\n",
    "    if p_ham_given_message >= p_spam_given_message:\n",
    "        return 'ham'\n",
    "    else:\n",
    "        return 'spam'\n"
   ]
  },
  {
   "cell_type": "markdown",
   "metadata": {},
   "source": [
    "Теперь мы можем последовательно применить эту функцию ко всем сообщениям в тестовой выборке, а результаты классификации сохранить в отдельном (новом) столбце."
   ]
  },
  {
   "cell_type": "code",
   "execution_count": 12,
   "metadata": {
    "ExecuteTime": {
     "end_time": "2023-08-02T06:16:51.966489Z",
     "start_time": "2023-08-02T06:16:51.868347Z"
    },
    "scrolled": false
   },
   "outputs": [
    {
     "data": {
      "text/html": [
       "<div>\n",
       "<style scoped>\n",
       "    .dataframe tbody tr th:only-of-type {\n",
       "        vertical-align: middle;\n",
       "    }\n",
       "\n",
       "    .dataframe tbody tr th {\n",
       "        vertical-align: top;\n",
       "    }\n",
       "\n",
       "    .dataframe thead th {\n",
       "        text-align: right;\n",
       "    }\n",
       "</style>\n",
       "<table border=\"1\" class=\"dataframe\">\n",
       "  <thead>\n",
       "    <tr style=\"text-align: right;\">\n",
       "      <th></th>\n",
       "      <th>Label</th>\n",
       "      <th>SMS</th>\n",
       "      <th>predicted</th>\n",
       "    </tr>\n",
       "  </thead>\n",
       "  <tbody>\n",
       "    <tr>\n",
       "      <th>0</th>\n",
       "      <td>ham</td>\n",
       "      <td>Where in abj are you serving. Are you staying ...</td>\n",
       "      <td>ham</td>\n",
       "    </tr>\n",
       "    <tr>\n",
       "      <th>1</th>\n",
       "      <td>ham</td>\n",
       "      <td>It has everything to do with the weather. Keep...</td>\n",
       "      <td>ham</td>\n",
       "    </tr>\n",
       "    <tr>\n",
       "      <th>2</th>\n",
       "      <td>ham</td>\n",
       "      <td>I got lousy sleep. I kept waking up every 2 ho...</td>\n",
       "      <td>ham</td>\n",
       "    </tr>\n",
       "    <tr>\n",
       "      <th>3</th>\n",
       "      <td>ham</td>\n",
       "      <td>I'm still pretty weak today .. Bad day ?</td>\n",
       "      <td>ham</td>\n",
       "    </tr>\n",
       "    <tr>\n",
       "      <th>4</th>\n",
       "      <td>ham</td>\n",
       "      <td>Kate jackson rec center before 7ish, right?</td>\n",
       "      <td>ham</td>\n",
       "    </tr>\n",
       "    <tr>\n",
       "      <th>5</th>\n",
       "      <td>spam</td>\n",
       "      <td>Got what it takes 2 take part in the WRC Rally...</td>\n",
       "      <td>spam</td>\n",
       "    </tr>\n",
       "    <tr>\n",
       "      <th>6</th>\n",
       "      <td>ham</td>\n",
       "      <td>Still chance there. If you search hard you wil...</td>\n",
       "      <td>ham</td>\n",
       "    </tr>\n",
       "    <tr>\n",
       "      <th>7</th>\n",
       "      <td>spam</td>\n",
       "      <td>Hi this is Amy, we will be sending you a free ...</td>\n",
       "      <td>ham</td>\n",
       "    </tr>\n",
       "    <tr>\n",
       "      <th>8</th>\n",
       "      <td>ham</td>\n",
       "      <td>What you doing?how are you?</td>\n",
       "      <td>ham</td>\n",
       "    </tr>\n",
       "    <tr>\n",
       "      <th>9</th>\n",
       "      <td>spam</td>\n",
       "      <td>Free 1st week entry 2 TEXTPOD 4 a chance 2 win...</td>\n",
       "      <td>spam</td>\n",
       "    </tr>\n",
       "  </tbody>\n",
       "</table>\n",
       "</div>"
      ],
      "text/plain": [
       "  Label                                                SMS predicted\n",
       "0   ham  Where in abj are you serving. Are you staying ...       ham\n",
       "1   ham  It has everything to do with the weather. Keep...       ham\n",
       "2   ham  I got lousy sleep. I kept waking up every 2 ho...       ham\n",
       "3   ham           I'm still pretty weak today .. Bad day ?       ham\n",
       "4   ham        Kate jackson rec center before 7ish, right?       ham\n",
       "5  spam  Got what it takes 2 take part in the WRC Rally...      spam\n",
       "6   ham  Still chance there. If you search hard you wil...       ham\n",
       "7  spam  Hi this is Amy, we will be sending you a free ...       ham\n",
       "8   ham                        What you doing?how are you?       ham\n",
       "9  spam  Free 1st week entry 2 TEXTPOD 4 a chance 2 win...      spam"
      ]
     },
     "execution_count": 12,
     "metadata": {},
     "output_type": "execute_result"
    }
   ],
   "source": [
    "test['predicted'] = test['SMS'].apply(classify_test)\n",
    "test.head(10)"
   ]
  },
  {
   "cell_type": "markdown",
   "metadata": {},
   "source": [
    "Теперь сравним классификацию с известным результатом (напомним, сообщения были заранее классифицированы человеком) и посчитаем саму метрику. Это будет количество правильных классификаций, поделенное на общее количество сообщений в выборке. В данном и похожем случаях, среднее от набора данных с логическим (булевым) типом будет как раз искомым результатом."
   ]
  },
  {
   "cell_type": "code",
   "execution_count": 13,
   "metadata": {
    "ExecuteTime": {
     "end_time": "2023-08-02T06:16:51.993774Z",
     "start_time": "2023-08-02T06:16:51.971013Z"
    }
   },
   "outputs": [
    {
     "name": "stdout",
     "output_type": "stream",
     "text": [
      "Accuracy of this Naive Bayes spam-filter is 98.57%\n"
     ]
    }
   ],
   "source": [
    "accuracy = (test['Label'] == test['predicted']).mean() * 100\n",
    "print(f'Accuracy of this Naive Bayes spam-filter is {accuracy:.2f}%')"
   ]
  },
  {
   "cell_type": "markdown",
   "metadata": {},
   "source": [
    "Наш алгоритм корректно классифицировал 98.57% всех сообщений. Это является очень достойным результатом, учитывая, что мы не проводили каких-либо более тонких настроек. \n",
    "\n",
    "Однако у такой метрики как accuracy есть существенный недостаток. В случае существенного дисбаланса классов, даже неработающий классификатор может иметь высокое значение accuracy. Например, если в выборке всего 1% сообщений составляет спам, то классификатор, который вообще не умеет находить спам и все сообщения классифицирует как ham, тем не менее покажет высокое значение accuracy (99%). В данном случае null accuracy (то есть значение accuracy, если алгоритм будет предсказывать все сообщения как ham), составляет 87% (это пропорция ham в датасете). Увеличение accuracy до 98.57% говорит о том, что алгоритм работает, и работает хорошо.\n",
    "\n",
    "Мы также можем оценить эффективность алгоритма, посчитав некоторые другие метрики, такие как precision, recall и F1-score, а также построить confusion matrix, в которой будут указано количество правильно классифицированных сообщений, а также ошибки False Positive (I рода) и False Negative (II рода)."
   ]
  },
  {
   "cell_type": "code",
   "execution_count": 14,
   "metadata": {
    "ExecuteTime": {
     "end_time": "2023-08-02T06:16:52.105099Z",
     "start_time": "2023-08-02T06:16:52.008124Z"
    }
   },
   "outputs": [
    {
     "name": "stdout",
     "output_type": "stream",
     "text": [
      "Classification Report:\n",
      "\n",
      "              precision    recall  f1-score   support\n",
      "\n",
      "         ham       0.99      0.99      0.99       966\n",
      "        spam       0.96      0.93      0.95       149\n",
      "\n",
      "    accuracy                           0.99      1115\n",
      "   macro avg       0.97      0.96      0.97      1115\n",
      "weighted avg       0.99      0.99      0.99      1115\n",
      "\n"
     ]
    }
   ],
   "source": [
    "from sklearn.metrics import classification_report\n",
    "print(\"Classification Report:\", end='\\n\\n')\n",
    "print(classification_report(test[\"Label\"], test['predicted']))"
   ]
  },
  {
   "cell_type": "code",
   "execution_count": 15,
   "metadata": {
    "ExecuteTime": {
     "end_time": "2023-08-02T06:16:52.164081Z",
     "start_time": "2023-08-02T06:16:52.114976Z"
    }
   },
   "outputs": [
    {
     "name": "stdout",
     "output_type": "stream",
     "text": [
      "Confusion matrix:\n",
      "\n",
      "[[960   6]\n",
      " [ 10 139]]\n",
      "\n",
      "True Positives(TP) =  139\n",
      "\n",
      "True Negatives(TN) =  960\n",
      "\n",
      "False Positives(FP) =  6\n",
      "\n",
      "False Negatives(FN) =  10\n"
     ]
    }
   ],
   "source": [
    "from sklearn.metrics import confusion_matrix\n",
    "cm = confusion_matrix(test[\"Label\"], test['predicted'])\n",
    "\n",
    "print('Confusion matrix:', end='\\n\\n')\n",
    "print(cm, end='\\n')\n",
    "print('\\nTrue Positives(TP) = ', cm[1,1])\n",
    "print('\\nTrue Negatives(TN) = ', cm[0,0])\n",
    "print('\\nFalse Positives(FP) = ', cm[0,1])\n",
    "print('\\nFalse Negatives(FN) = ', cm[1,0])"
   ]
  },
  {
   "cell_type": "markdown",
   "metadata": {},
   "source": [
    "Precision (точность, positive predicted value) – это доля объектов, названными классификатором положительными и при этом действительно являющихся положительными. В данном случае можно определить precision как способность не отправлять нормальные сообщения в спам. Этот показатель для нашего алгоритма составляет 0.96.\n",
    "\n",
    "Recall (полнота, отклик, для положительного класса чувствительность, sensitivity, true positive rate) – это то, какую долю объектов положительного класса из всех объектов положительного класса нашёл алгоритм. Recall можно определить как способность улавливать, \"чувствовать\" спам. В данном случае значение Recall составляет 0.93. \n",
    "\n",
    "F-score (F-мера) представляет собой гармоническое среднее между precision и recall, и определяется по формуле F1 = 2 * (precision * recall) / (precision + recall). В данном случае значение F-score составялет 0.95.\n",
    "\n",
    "Мы можем найти сообщения, которые были классифицированы неправильно, и посмотреть, есть ли у них какие-либо особенности. Посмотрим, какие сообщения на самом деле не являются спамом, однако были классифицированы как спам:"
   ]
  },
  {
   "cell_type": "code",
   "execution_count": 16,
   "metadata": {
    "ExecuteTime": {
     "end_time": "2023-08-02T06:16:52.208472Z",
     "start_time": "2023-08-02T06:16:52.170685Z"
    }
   },
   "outputs": [
    {
     "data": {
      "text/html": [
       "<div>\n",
       "<style scoped>\n",
       "    .dataframe tbody tr th:only-of-type {\n",
       "        vertical-align: middle;\n",
       "    }\n",
       "\n",
       "    .dataframe tbody tr th {\n",
       "        vertical-align: top;\n",
       "    }\n",
       "\n",
       "    .dataframe thead th {\n",
       "        text-align: right;\n",
       "    }\n",
       "</style>\n",
       "<table border=\"1\" class=\"dataframe\">\n",
       "  <thead>\n",
       "    <tr style=\"text-align: right;\">\n",
       "      <th></th>\n",
       "      <th>Label</th>\n",
       "      <th>SMS</th>\n",
       "      <th>predicted</th>\n",
       "    </tr>\n",
       "  </thead>\n",
       "  <tbody>\n",
       "    <tr>\n",
       "      <th>18</th>\n",
       "      <td>ham</td>\n",
       "      <td>wiskey Brandy Rum Gin Beer Vodka Scotch Shampain Wine \"KUDI\"yarasu dhina vaazhthukkal. ..</td>\n",
       "      <td>spam</td>\n",
       "    </tr>\n",
       "    <tr>\n",
       "      <th>591</th>\n",
       "      <td>ham</td>\n",
       "      <td>We have sent JD for Customer Service cum Accounts Executive to ur mail id, For details contact us</td>\n",
       "      <td>spam</td>\n",
       "    </tr>\n",
       "    <tr>\n",
       "      <th>716</th>\n",
       "      <td>ham</td>\n",
       "      <td>Hey...Great deal...Farm tour 9am to 5pm $95/pax, $50 deposit by 16 May</td>\n",
       "      <td>spam</td>\n",
       "    </tr>\n",
       "    <tr>\n",
       "      <th>730</th>\n",
       "      <td>ham</td>\n",
       "      <td>Dhoni have luck to win some big title.so we will win:)</td>\n",
       "      <td>spam</td>\n",
       "    </tr>\n",
       "    <tr>\n",
       "      <th>794</th>\n",
       "      <td>ham</td>\n",
       "      <td>Yavnt tried yet and never played original either</td>\n",
       "      <td>spam</td>\n",
       "    </tr>\n",
       "    <tr>\n",
       "      <th>992</th>\n",
       "      <td>ham</td>\n",
       "      <td>Waiting for your call.</td>\n",
       "      <td>spam</td>\n",
       "    </tr>\n",
       "  </tbody>\n",
       "</table>\n",
       "</div>"
      ],
      "text/plain": [
       "    Label  \\\n",
       "18    ham   \n",
       "591   ham   \n",
       "716   ham   \n",
       "730   ham   \n",
       "794   ham   \n",
       "992   ham   \n",
       "\n",
       "                                                                                                   SMS  \\\n",
       "18           wiskey Brandy Rum Gin Beer Vodka Scotch Shampain Wine \"KUDI\"yarasu dhina vaazhthukkal. ..   \n",
       "591  We have sent JD for Customer Service cum Accounts Executive to ur mail id, For details contact us   \n",
       "716                             Hey...Great deal...Farm tour 9am to 5pm $95/pax, $50 deposit by 16 May   \n",
       "730                                             Dhoni have luck to win some big title.so we will win:)   \n",
       "794                                                   Yavnt tried yet and never played original either   \n",
       "992                                                                             Waiting for your call.   \n",
       "\n",
       "    predicted  \n",
       "18       spam  \n",
       "591      spam  \n",
       "716      spam  \n",
       "730      spam  \n",
       "794      spam  \n",
       "992      spam  "
      ]
     },
     "execution_count": 16,
     "metadata": {},
     "output_type": "execute_result"
    }
   ],
   "source": [
    "pd.set_option('display.max_colwidth', None)\n",
    "test[(test['Label'] == 'ham') & (test['predicted'] == 'spam')]"
   ]
  },
  {
   "cell_type": "markdown",
   "metadata": {},
   "source": [
    "Интересно, что данные сообщения напоминают спам, так как являются достаточно короткими и содержат такие слова как \"deal\", \"luck\", \"win\", \"call\", \"played\". Недостаток спам-фильтра в том, что такие сообщения он будет воспринимать как спам. Но его можно понять:)\n",
    "\n",
    "Теперь посмотрим сообщения, которые являются спамом, однако алгоритм классфифицировал их как не-спам:"
   ]
  },
  {
   "cell_type": "code",
   "execution_count": 17,
   "metadata": {
    "ExecuteTime": {
     "end_time": "2023-08-02T06:16:52.249702Z",
     "start_time": "2023-08-02T06:16:52.211855Z"
    }
   },
   "outputs": [
    {
     "data": {
      "text/html": [
       "<div>\n",
       "<style scoped>\n",
       "    .dataframe tbody tr th:only-of-type {\n",
       "        vertical-align: middle;\n",
       "    }\n",
       "\n",
       "    .dataframe tbody tr th {\n",
       "        vertical-align: top;\n",
       "    }\n",
       "\n",
       "    .dataframe thead th {\n",
       "        text-align: right;\n",
       "    }\n",
       "</style>\n",
       "<table border=\"1\" class=\"dataframe\">\n",
       "  <thead>\n",
       "    <tr style=\"text-align: right;\">\n",
       "      <th></th>\n",
       "      <th>Label</th>\n",
       "      <th>SMS</th>\n",
       "      <th>predicted</th>\n",
       "    </tr>\n",
       "  </thead>\n",
       "  <tbody>\n",
       "    <tr>\n",
       "      <th>7</th>\n",
       "      <td>spam</td>\n",
       "      <td>Hi this is Amy, we will be sending you a free phone number in a couple of days, which will give you an access to all the adult parties...</td>\n",
       "      <td>ham</td>\n",
       "    </tr>\n",
       "    <tr>\n",
       "      <th>103</th>\n",
       "      <td>spam</td>\n",
       "      <td>thesmszone.com lets you send free anonymous and masked messages..im sending this message from there..do you see the potential for abuse???</td>\n",
       "      <td>ham</td>\n",
       "    </tr>\n",
       "    <tr>\n",
       "      <th>319</th>\n",
       "      <td>spam</td>\n",
       "      <td>RCT' THNQ Adrian for U text. Rgds Vatian</td>\n",
       "      <td>ham</td>\n",
       "    </tr>\n",
       "    <tr>\n",
       "      <th>465</th>\n",
       "      <td>spam</td>\n",
       "      <td>For sale - arsenal dartboard. Good condition but no doubles or trebles!</td>\n",
       "      <td>ham</td>\n",
       "    </tr>\n",
       "    <tr>\n",
       "      <th>884</th>\n",
       "      <td>spam</td>\n",
       "      <td>Hi ya babe x u 4goten bout me?' scammers getting smart..Though this is a regular vodafone no, if you respond you get further prem rate msg/subscription. Other nos used also. Beware!</td>\n",
       "      <td>ham</td>\n",
       "    </tr>\n",
       "    <tr>\n",
       "      <th>963</th>\n",
       "      <td>spam</td>\n",
       "      <td>Block Breaker now comes in deluxe format with new features and great graphics from T-Mobile. Buy for just £5 by replying GET BBDELUXE and take the challenge</td>\n",
       "      <td>ham</td>\n",
       "    </tr>\n",
       "    <tr>\n",
       "      <th>1004</th>\n",
       "      <td>spam</td>\n",
       "      <td>Hi I'm sue. I am 20 years old and work as a lapdancer. I love sex. Text me live - I'm i my bedroom now. text SUE to 89555. By TextOperator G2 1DA 150ppmsg 18+</td>\n",
       "      <td>ham</td>\n",
       "    </tr>\n",
       "    <tr>\n",
       "      <th>1016</th>\n",
       "      <td>spam</td>\n",
       "      <td>Hi babe its Chloe, how r u? I was smashed on saturday night, it was great! How was your weekend? U been missing me? SP visionsms.com Text stop to stop 150p/text</td>\n",
       "      <td>ham</td>\n",
       "    </tr>\n",
       "    <tr>\n",
       "      <th>1077</th>\n",
       "      <td>spam</td>\n",
       "      <td>Xmas &amp; New Years Eve tickets are now on sale from the club, during the day from 10am till 8pm, and on Thurs, Fri &amp; Sat night this week. They're selling fast!</td>\n",
       "      <td>ham</td>\n",
       "    </tr>\n",
       "    <tr>\n",
       "      <th>1114</th>\n",
       "      <td>spam</td>\n",
       "      <td>This message is brought to you by GMW Ltd. and is not connected to the</td>\n",
       "      <td>ham</td>\n",
       "    </tr>\n",
       "  </tbody>\n",
       "</table>\n",
       "</div>"
      ],
      "text/plain": [
       "     Label  \\\n",
       "7     spam   \n",
       "103   spam   \n",
       "319   spam   \n",
       "465   spam   \n",
       "884   spam   \n",
       "963   spam   \n",
       "1004  spam   \n",
       "1016  spam   \n",
       "1077  spam   \n",
       "1114  spam   \n",
       "\n",
       "                                                                                                                                                                                        SMS  \\\n",
       "7                                                 Hi this is Amy, we will be sending you a free phone number in a couple of days, which will give you an access to all the adult parties...   \n",
       "103                                              thesmszone.com lets you send free anonymous and masked messages..im sending this message from there..do you see the potential for abuse???   \n",
       "319                                                                                                                                                RCT' THNQ Adrian for U text. Rgds Vatian   \n",
       "465                                                                                                                 For sale - arsenal dartboard. Good condition but no doubles or trebles!   \n",
       "884   Hi ya babe x u 4goten bout me?' scammers getting smart..Though this is a regular vodafone no, if you respond you get further prem rate msg/subscription. Other nos used also. Beware!   \n",
       "963                            Block Breaker now comes in deluxe format with new features and great graphics from T-Mobile. Buy for just £5 by replying GET BBDELUXE and take the challenge   \n",
       "1004                         Hi I'm sue. I am 20 years old and work as a lapdancer. I love sex. Text me live - I'm i my bedroom now. text SUE to 89555. By TextOperator G2 1DA 150ppmsg 18+   \n",
       "1016                       Hi babe its Chloe, how r u? I was smashed on saturday night, it was great! How was your weekend? U been missing me? SP visionsms.com Text stop to stop 150p/text   \n",
       "1077                          Xmas & New Years Eve tickets are now on sale from the club, during the day from 10am till 8pm, and on Thurs, Fri & Sat night this week. They're selling fast!   \n",
       "1114                                                                                                                 This message is brought to you by GMW Ltd. and is not connected to the   \n",
       "\n",
       "     predicted  \n",
       "7          ham  \n",
       "103        ham  \n",
       "319        ham  \n",
       "465        ham  \n",
       "884        ham  \n",
       "963        ham  \n",
       "1004       ham  \n",
       "1016       ham  \n",
       "1077       ham  \n",
       "1114       ham  "
      ]
     },
     "execution_count": 17,
     "metadata": {},
     "output_type": "execute_result"
    }
   ],
   "source": [
    "test[(test['Label'] == 'spam') & (test['predicted'] == 'ham')]"
   ]
  },
  {
   "cell_type": "markdown",
   "metadata": {},
   "source": [
    "Как правило, это достаточно длинные сообщения, которые содержат слова с редкой встречаемостью. Также стоит отметить, что некоторые из этих сообщений маскируются под реальное сообщение от человека, что обманывает алгоритм."
   ]
  },
  {
   "cell_type": "markdown",
   "metadata": {},
   "source": [
    "### Заключение\n",
    "\n",
    "В рамках данного проекта нам удалось создать достаточно точный спам-фильтр с использованием наивного байесовского классификатора. Алгоритм корректно классифицировал 98.6% сообщений в тестовой выборке, что гораздо выше, чем пропорция не-спам сообщений в датасете (~87%). Результаты вычисления таких метрик как accuracy, precision, recall и F-score, позволяют охарактеризовать спам-фильтр как достаточно надежный. Подавляющее большинство спам-сообщений такой фильтр не пропустит. В то же время, обычные не-спам сообщения также будут классифицированы правильно, за исключением некоторого количества коротких сообщений, которые похожи по нарративу на спам и включают такие слова как \"deal\", \"luck\", \"win\", \"call\", \"play\", \"title\" и т.д."
   ]
  }
 ],
 "metadata": {
  "kernelspec": {
   "display_name": "Python 3 (ipykernel)",
   "language": "python",
   "name": "python3"
  },
  "language_info": {
   "codemirror_mode": {
    "name": "ipython",
    "version": 3
   },
   "file_extension": ".py",
   "mimetype": "text/x-python",
   "name": "python",
   "nbconvert_exporter": "python",
   "pygments_lexer": "ipython3",
   "version": "3.9.12"
  },
  "toc": {
   "base_numbering": "",
   "nav_menu": {},
   "number_sections": false,
   "sideBar": true,
   "skip_h1_title": false,
   "title_cell": "Table of Contents",
   "title_sidebar": "Contents",
   "toc_cell": false,
   "toc_position": {
    "height": "calc(100% - 180px)",
    "left": "10px",
    "top": "150px",
    "width": "406.237px"
   },
   "toc_section_display": true,
   "toc_window_display": true
  }
 },
 "nbformat": 4,
 "nbformat_minor": 4
}
